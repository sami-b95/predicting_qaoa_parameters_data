{
 "cells": [
  {
   "cell_type": "code",
   "execution_count": 55,
   "metadata": {},
   "outputs": [],
   "source": [
    "import matplotlib.pyplot as plt\n",
    "from matplotlib import rc\n",
    "import numpy as np\n",
    "from pathlib import Path\n",
    "import pickle\n",
    "%matplotlib inline"
   ]
  },
  {
   "cell_type": "markdown",
   "metadata": {},
   "source": [
    "# Configuration"
   ]
  },
  {
   "cell_type": "code",
   "execution_count": 56,
   "metadata": {},
   "outputs": [],
   "source": [
    "rc(\"font\", size=18, weight=\"normal\")"
   ]
  },
  {
   "cell_type": "code",
   "execution_count": 57,
   "metadata": {},
   "outputs": [],
   "source": [
    "DATADIR = Path(\"data\", \"sk_finite_size\")"
   ]
  },
  {
   "cell_type": "markdown",
   "metadata": {},
   "source": [
    "# Data loading"
   ]
  },
  {
   "cell_type": "markdown",
   "metadata": {},
   "source": [
    "## Load all results"
   ]
  },
  {
   "cell_type": "code",
   "execution_count": 58,
   "metadata": {},
   "outputs": [],
   "source": [
    "full_results = {}\n",
    "for result_file in Path(DATADIR).glob(\"sk_finite*.pickle\"):\n",
    "    with result_file.open(\"rb\") as f:\n",
    "        result = pickle.load(f)\n",
    "        p = len(result[\"betas\"])\n",
    "        if p not in full_results:\n",
    "            full_results[p] = {}\n",
    "        if result[\"n\"] not in full_results[p]:\n",
    "            full_results[p][result[\"n\"]] = {\"rescaled_samples\": []}\n",
    "        full_results[p][result[\"n\"]][\"rescaled_samples\"].extend(result[\"rescaled_samples\"])\n",
    "results = {}\n",
    "for p in full_results:\n",
    "    results[p] = []\n",
    "    for n in sorted(full_results[p]):\n",
    "        results[p].append({\"n\": n, \"energy\": float(np.mean(np.real(full_results[p][n][\"rescaled_samples\"])).real), \"energy_std\": float(np.std([z.real for z in full_results[p][n][\"rescaled_samples\"]])) / np.sqrt(len(full_results[p][n][\"rescaled_samples\"]))})"
   ]
  },
  {
   "cell_type": "markdown",
   "metadata": {},
   "source": [
    "## Parameters"
   ]
  },
  {
   "cell_type": "code",
   "execution_count": 62,
   "metadata": {},
   "outputs": [],
   "source": [
    "p = 2 # QAOA depth, should be 2 or 3 (1 = analytically solvable case)"
   ]
  },
  {
   "cell_type": "markdown",
   "metadata": {},
   "source": [
    "## Select results"
   ]
  },
  {
   "cell_type": "code",
   "execution_count": 63,
   "metadata": {},
   "outputs": [],
   "source": [
    "n_values = [result[\"n\"] for result in results[p]]\n",
    "energy_values = np.array([result[\"energy\"] for result in results[p]])\n",
    "energy_std_values = np.array([result[\"energy_std\"] for result in results[p]])"
   ]
  },
  {
   "cell_type": "markdown",
   "metadata": {},
   "source": [
    "# Figure"
   ]
  },
  {
   "cell_type": "code",
   "execution_count": 64,
   "metadata": {},
   "outputs": [
    {
     "data": {
      "image/png": "[encoded data removed]",
      "text/plain": [
       "<Figure size 432x288 with 1 Axes>"
      ]
     },
     "metadata": {
      "needs_background": "light"
     },
     "output_type": "display_data"
    }
   ],
   "source": [
    "infinite_size_expectation = -0.40754502990798835 if p == 2 else -0.47261898090097954\n",
    "fig, ax = plt.subplots()\n",
    "ax.plot(n_values, energy_values, \"+-\", color=(0, 0, 0.8), label=\"Finite-size energy\")\n",
    "ax.axhline(infinite_size_expectation, color=\"k\", label=\"Infinite-size energy\")\n",
    "ax.fill_between(n_values, energy_values - energy_std_values, energy_values + energy_std_values, color=(0, 0, 0.8, 0.3))\n",
    "ax.set_xlabel(\"$n$\")\n",
    "ax.set_ylabel(\"Rescaled energy\")\n",
    "fig.tight_layout()\n",
    "fig.savefig(Path(\"figures\", f\"finite_size_sk_p={p}.png\"))"
   ]
  }
 ],
 "metadata": {
  "kernelspec": {
   "display_name": "Python 3.9",
   "language": "python",
   "name": "python3.9"
  },
  "language_info": {
   "codemirror_mode": {
    "name": "ipython",
    "version": 3
   },
   "file_extension": ".py",
   "mimetype": "text/x-python",
   "name": "python",
   "nbconvert_exporter": "python",
   "pygments_lexer": "ipython3",
   "version": "3.9.6"
  }
 },
 "nbformat": 4,
 "nbformat_minor": 2
}
